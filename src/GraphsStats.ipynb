{
 "cells": [
  {
   "cell_type": "code",
   "execution_count": 7,
   "metadata": {},
   "outputs": [],
   "source": [
    "import pandas as pd\n",
    "import numpy as np\n",
    "import matplotlib.pyplot as plt\n",
    "\n",
    "from IPython.core.interactiveshell import InteractiveShell\n",
    "\n",
    "InteractiveShell.ast_node_interactivity = \"all\"\n",
    "pd.options.display.max_columns = None"
   ]
  },
  {
   "cell_type": "code",
   "execution_count": 8,
   "metadata": {},
   "outputs": [],
   "source": [
    "energy_data, temperature_data, stations_data = pd.read_pickle(\"../Data/CleanedData.pickle\")"
   ]
  },
  {
   "cell_type": "markdown",
   "metadata": {},
   "source": [
    "# Statistics\n",
    "## Descriptive Statistics\n",
    "Note that specific columns have been chosen, as in some cases descriptive statistics may be misleading (i.e. for categorical variables).\n",
    "The choices have been made purely by human judgement."
   ]
  },
  {
   "cell_type": "code",
   "execution_count": 9,
   "metadata": {},
   "outputs": [
    {
     "data": {
      "text/html": [
       "<div>\n",
       "<style scoped>\n",
       "    .dataframe tbody tr th:only-of-type {\n",
       "        vertical-align: middle;\n",
       "    }\n",
       "\n",
       "    .dataframe tbody tr th {\n",
       "        vertical-align: top;\n",
       "    }\n",
       "\n",
       "    .dataframe thead th {\n",
       "        text-align: right;\n",
       "    }\n",
       "</style>\n",
       "<table border=\"1\" class=\"dataframe\">\n",
       "  <thead>\n",
       "    <tr style=\"text-align: right;\">\n",
       "      <th></th>\n",
       "      <th>TotalDemand</th>\n",
       "      <th>RRP</th>\n",
       "    </tr>\n",
       "  </thead>\n",
       "  <tbody>\n",
       "    <tr>\n",
       "      <th>count</th>\n",
       "      <td>1.658965e+06</td>\n",
       "      <td>1.658965e+06</td>\n",
       "    </tr>\n",
       "    <tr>\n",
       "      <th>mean</th>\n",
       "      <td>4.619879e+03</td>\n",
       "      <td>5.142330e+01</td>\n",
       "    </tr>\n",
       "    <tr>\n",
       "      <th>std</th>\n",
       "      <td>2.848202e+03</td>\n",
       "      <td>1.912126e+02</td>\n",
       "    </tr>\n",
       "    <tr>\n",
       "      <th>min</th>\n",
       "      <td>2.189000e+01</td>\n",
       "      <td>-1.000000e+03</td>\n",
       "    </tr>\n",
       "    <tr>\n",
       "      <th>25%</th>\n",
       "      <td>1.414270e+03</td>\n",
       "      <td>2.334000e+01</td>\n",
       "    </tr>\n",
       "    <tr>\n",
       "      <th>50%</th>\n",
       "      <td>5.131463e+03</td>\n",
       "      <td>3.441000e+01</td>\n",
       "    </tr>\n",
       "    <tr>\n",
       "      <th>75%</th>\n",
       "      <td>6.591495e+03</td>\n",
       "      <td>5.487000e+01</td>\n",
       "    </tr>\n",
       "    <tr>\n",
       "      <th>max</th>\n",
       "      <td>1.457986e+04</td>\n",
       "      <td>1.470000e+04</td>\n",
       "    </tr>\n",
       "  </tbody>\n",
       "</table>\n",
       "</div>"
      ],
      "text/plain": [
       "        TotalDemand           RRP\n",
       "count  1.658965e+06  1.658965e+06\n",
       "mean   4.619879e+03  5.142330e+01\n",
       "std    2.848202e+03  1.912126e+02\n",
       "min    2.189000e+01 -1.000000e+03\n",
       "25%    1.414270e+03  2.334000e+01\n",
       "50%    5.131463e+03  3.441000e+01\n",
       "75%    6.591495e+03  5.487000e+01\n",
       "max    1.457986e+04  1.470000e+04"
      ]
     },
     "execution_count": 9,
     "metadata": {},
     "output_type": "execute_result"
    },
    {
     "data": {
      "text/html": [
       "<div>\n",
       "<style scoped>\n",
       "    .dataframe tbody tr th:only-of-type {\n",
       "        vertical-align: middle;\n",
       "    }\n",
       "\n",
       "    .dataframe tbody tr th {\n",
       "        vertical-align: top;\n",
       "    }\n",
       "\n",
       "    .dataframe thead th {\n",
       "        text-align: right;\n",
       "    }\n",
       "</style>\n",
       "<table border=\"1\" class=\"dataframe\">\n",
       "  <thead>\n",
       "    <tr style=\"text-align: right;\">\n",
       "      <th></th>\n",
       "      <th>StationNumber</th>\n",
       "      <th>Precipitation</th>\n",
       "      <th>AirTemperature</th>\n",
       "      <th>WetBulbTemperature</th>\n",
       "      <th>DewTemperature</th>\n",
       "      <th>RelativeHumidity</th>\n",
       "      <th>WindSpeed</th>\n",
       "      <th>WindDirection</th>\n",
       "      <th>WindgustSpeed</th>\n",
       "      <th>SeaPressure</th>\n",
       "      <th>StationPressure</th>\n",
       "    </tr>\n",
       "  </thead>\n",
       "  <tbody>\n",
       "    <tr>\n",
       "      <th>count</th>\n",
       "      <td>1.826244e+06</td>\n",
       "      <td>1.406362e+06</td>\n",
       "      <td>1.014593e+06</td>\n",
       "      <td>1.805564e+06</td>\n",
       "      <td>1.140835e+06</td>\n",
       "      <td>1.140832e+06</td>\n",
       "      <td>852918.000000</td>\n",
       "      <td>1.036750e+06</td>\n",
       "      <td>1.089933e+06</td>\n",
       "      <td>1.574715e+06</td>\n",
       "      <td>1.805909e+06</td>\n",
       "    </tr>\n",
       "    <tr>\n",
       "      <th>mean</th>\n",
       "      <td>6.297429e+04</td>\n",
       "      <td>1.041248e+00</td>\n",
       "      <td>1.677426e+01</td>\n",
       "      <td>1.317785e+01</td>\n",
       "      <td>9.110140e+00</td>\n",
       "      <td>6.420346e+01</td>\n",
       "      <td>11.629759</td>\n",
       "      <td>1.903881e+02</td>\n",
       "      <td>1.936450e+01</td>\n",
       "      <td>1.016152e+03</td>\n",
       "      <td>1.011931e+03</td>\n",
       "    </tr>\n",
       "    <tr>\n",
       "      <th>std</th>\n",
       "      <td>2.686676e+04</td>\n",
       "      <td>4.703112e+00</td>\n",
       "      <td>6.243056e+00</td>\n",
       "      <td>4.676769e+00</td>\n",
       "      <td>5.478454e+00</td>\n",
       "      <td>1.900003e+01</td>\n",
       "      <td>8.852645</td>\n",
       "      <td>1.161376e+02</td>\n",
       "      <td>1.302222e+01</td>\n",
       "      <td>7.868127e+00</td>\n",
       "      <td>8.247630e+00</td>\n",
       "    </tr>\n",
       "    <tr>\n",
       "      <th>min</th>\n",
       "      <td>2.309000e+04</td>\n",
       "      <td>0.000000e+00</td>\n",
       "      <td>-1.940000e+01</td>\n",
       "      <td>-9.000000e-01</td>\n",
       "      <td>-3.920000e+01</td>\n",
       "      <td>1.000000e+00</td>\n",
       "      <td>0.000000</td>\n",
       "      <td>0.000000e+00</td>\n",
       "      <td>0.000000e+00</td>\n",
       "      <td>9.749000e+02</td>\n",
       "      <td>9.688000e+02</td>\n",
       "    </tr>\n",
       "    <tr>\n",
       "      <th>25%</th>\n",
       "      <td>4.091300e+04</td>\n",
       "      <td>0.000000e+00</td>\n",
       "      <td>1.220000e+01</td>\n",
       "      <td>9.600000e+00</td>\n",
       "      <td>5.100000e+00</td>\n",
       "      <td>5.100000e+01</td>\n",
       "      <td>5.400000</td>\n",
       "      <td>8.000000e+01</td>\n",
       "      <td>1.120000e+01</td>\n",
       "      <td>1.011400e+03</td>\n",
       "      <td>1.007100e+03</td>\n",
       "    </tr>\n",
       "    <tr>\n",
       "      <th>50%</th>\n",
       "      <td>6.606200e+04</td>\n",
       "      <td>0.000000e+00</td>\n",
       "      <td>1.610000e+01</td>\n",
       "      <td>1.280000e+01</td>\n",
       "      <td>8.600000e+00</td>\n",
       "      <td>6.500000e+01</td>\n",
       "      <td>9.400000</td>\n",
       "      <td>2.100000e+02</td>\n",
       "      <td>1.660000e+01</td>\n",
       "      <td>1.016600e+03</td>\n",
       "      <td>1.012700e+03</td>\n",
       "    </tr>\n",
       "    <tr>\n",
       "      <th>75%</th>\n",
       "      <td>8.633800e+04</td>\n",
       "      <td>2.000000e-01</td>\n",
       "      <td>2.090000e+01</td>\n",
       "      <td>1.660000e+01</td>\n",
       "      <td>1.280000e+01</td>\n",
       "      <td>7.900000e+01</td>\n",
       "      <td>16.600000</td>\n",
       "      <td>2.900000e+02</td>\n",
       "      <td>2.590000e+01</td>\n",
       "      <td>1.021500e+03</td>\n",
       "      <td>1.017600e+03</td>\n",
       "    </tr>\n",
       "    <tr>\n",
       "      <th>max</th>\n",
       "      <td>9.402900e+04</td>\n",
       "      <td>1.826000e+02</td>\n",
       "      <td>5.120000e+01</td>\n",
       "      <td>4.100000e+01</td>\n",
       "      <td>4.100000e+01</td>\n",
       "      <td>1.230000e+02</td>\n",
       "      <td>87.100000</td>\n",
       "      <td>3.600000e+02</td>\n",
       "      <td>1.278000e+02</td>\n",
       "      <td>1.041800e+03</td>\n",
       "      <td>1.037600e+03</td>\n",
       "    </tr>\n",
       "  </tbody>\n",
       "</table>\n",
       "</div>"
      ],
      "text/plain": [
       "       StationNumber  Precipitation  AirTemperature  WetBulbTemperature  \\\n",
       "count   1.826244e+06   1.406362e+06    1.014593e+06        1.805564e+06   \n",
       "mean    6.297429e+04   1.041248e+00    1.677426e+01        1.317785e+01   \n",
       "std     2.686676e+04   4.703112e+00    6.243056e+00        4.676769e+00   \n",
       "min     2.309000e+04   0.000000e+00   -1.940000e+01       -9.000000e-01   \n",
       "25%     4.091300e+04   0.000000e+00    1.220000e+01        9.600000e+00   \n",
       "50%     6.606200e+04   0.000000e+00    1.610000e+01        1.280000e+01   \n",
       "75%     8.633800e+04   2.000000e-01    2.090000e+01        1.660000e+01   \n",
       "max     9.402900e+04   1.826000e+02    5.120000e+01        4.100000e+01   \n",
       "\n",
       "       DewTemperature  RelativeHumidity      WindSpeed  WindDirection  \\\n",
       "count    1.140835e+06      1.140832e+06  852918.000000   1.036750e+06   \n",
       "mean     9.110140e+00      6.420346e+01      11.629759   1.903881e+02   \n",
       "std      5.478454e+00      1.900003e+01       8.852645   1.161376e+02   \n",
       "min     -3.920000e+01      1.000000e+00       0.000000   0.000000e+00   \n",
       "25%      5.100000e+00      5.100000e+01       5.400000   8.000000e+01   \n",
       "50%      8.600000e+00      6.500000e+01       9.400000   2.100000e+02   \n",
       "75%      1.280000e+01      7.900000e+01      16.600000   2.900000e+02   \n",
       "max      4.100000e+01      1.230000e+02      87.100000   3.600000e+02   \n",
       "\n",
       "       WindgustSpeed   SeaPressure  StationPressure  \n",
       "count   1.089933e+06  1.574715e+06     1.805909e+06  \n",
       "mean    1.936450e+01  1.016152e+03     1.011931e+03  \n",
       "std     1.302222e+01  7.868127e+00     8.247630e+00  \n",
       "min     0.000000e+00  9.749000e+02     9.688000e+02  \n",
       "25%     1.120000e+01  1.011400e+03     1.007100e+03  \n",
       "50%     1.660000e+01  1.016600e+03     1.012700e+03  \n",
       "75%     2.590000e+01  1.021500e+03     1.017600e+03  \n",
       "max     1.278000e+02  1.041800e+03     1.037600e+03  "
      ]
     },
     "execution_count": 9,
     "metadata": {},
     "output_type": "execute_result"
    },
    {
     "data": {
      "text/html": [
       "<div>\n",
       "<style scoped>\n",
       "    .dataframe tbody tr th:only-of-type {\n",
       "        vertical-align: middle;\n",
       "    }\n",
       "\n",
       "    .dataframe tbody tr th {\n",
       "        vertical-align: top;\n",
       "    }\n",
       "\n",
       "    .dataframe thead th {\n",
       "        text-align: right;\n",
       "    }\n",
       "</style>\n",
       "<table border=\"1\" class=\"dataframe\">\n",
       "  <thead>\n",
       "    <tr style=\"text-align: right;\">\n",
       "      <th></th>\n",
       "      <th>StationHeight</th>\n",
       "      <th>BarometerHeight</th>\n",
       "      <th>CompletionPercent</th>\n",
       "    </tr>\n",
       "  </thead>\n",
       "  <tbody>\n",
       "    <tr>\n",
       "      <th>count</th>\n",
       "      <td>6.000000</td>\n",
       "      <td>6.000000</td>\n",
       "      <td>6.000000</td>\n",
       "    </tr>\n",
       "    <tr>\n",
       "      <th>mean</th>\n",
       "      <td>30.716667</td>\n",
       "      <td>31.766667</td>\n",
       "      <td>101.833333</td>\n",
       "    </tr>\n",
       "    <tr>\n",
       "      <th>std</th>\n",
       "      <td>19.023503</td>\n",
       "      <td>19.830549</td>\n",
       "      <td>4.308906</td>\n",
       "    </tr>\n",
       "    <tr>\n",
       "      <th>min</th>\n",
       "      <td>7.500000</td>\n",
       "      <td>7.500000</td>\n",
       "      <td>99.000000</td>\n",
       "    </tr>\n",
       "    <tr>\n",
       "      <th>25%</th>\n",
       "      <td>13.875000</td>\n",
       "      <td>14.275000</td>\n",
       "      <td>99.000000</td>\n",
       "    </tr>\n",
       "    <tr>\n",
       "      <th>50%</th>\n",
       "      <td>35.100000</td>\n",
       "      <td>36.200000</td>\n",
       "      <td>100.000000</td>\n",
       "    </tr>\n",
       "    <tr>\n",
       "      <th>75%</th>\n",
       "      <td>45.750000</td>\n",
       "      <td>48.300000</td>\n",
       "      <td>102.500000</td>\n",
       "    </tr>\n",
       "    <tr>\n",
       "      <th>max</th>\n",
       "      <td>50.500000</td>\n",
       "      <td>51.400000</td>\n",
       "      <td>110.000000</td>\n",
       "    </tr>\n",
       "  </tbody>\n",
       "</table>\n",
       "</div>"
      ],
      "text/plain": [
       "       StationHeight  BarometerHeight  CompletionPercent\n",
       "count       6.000000         6.000000           6.000000\n",
       "mean       30.716667        31.766667         101.833333\n",
       "std        19.023503        19.830549           4.308906\n",
       "min         7.500000         7.500000          99.000000\n",
       "25%        13.875000        14.275000          99.000000\n",
       "50%        35.100000        36.200000         100.000000\n",
       "75%        45.750000        48.300000         102.500000\n",
       "max        50.500000        51.400000         110.000000"
      ]
     },
     "execution_count": 9,
     "metadata": {},
     "output_type": "execute_result"
    }
   ],
   "source": [
    "energy_data[[\"TotalDemand\", \"RRP\"]].describe()\n",
    "temperature_data.describe()\n",
    "stations_data[[\"StationHeight\", \"BarometerHeight\", \"CompletionPercent\"]].describe()"
   ]
  },
  {
   "cell_type": "markdown",
   "metadata": {},
   "source": [
    "# Graphs \n",
    "## Date vs Total Demand   \n",
    "A graphical representation of date vs total demand of energy. This information is quite useful as it shows which times of the year you'd expect to see a high demand for energy."
   ]
  },
  {
   "cell_type": "code",
   "execution_count": 13,
   "metadata": {},
   "outputs": [
    {
     "data": {
      "text/plain": [
       "<Figure size 432x288 with 0 Axes>"
      ]
     },
     "execution_count": 13,
     "metadata": {},
     "output_type": "execute_result"
    },
    {
     "data": {
      "text/plain": [
       "Text(0.5, 0, 'Date')"
      ]
     },
     "execution_count": 13,
     "metadata": {},
     "output_type": "execute_result"
    },
    {
     "data": {
      "text/plain": [
       "Text(0, 0.5, 'TotalDemand')"
      ]
     },
     "execution_count": 13,
     "metadata": {},
     "output_type": "execute_result"
    },
    {
     "data": {
      "text/plain": [
       "(array([728659., 730120., 731581., 733042., 734503., 735964., 737425.]),\n",
       " <a list of 7 Text xticklabel objects>)"
      ]
     },
     "execution_count": 13,
     "metadata": {},
     "output_type": "execute_result"
    },
    {
     "data": {
      "text/plain": [
       "<Figure size 432x288 with 0 Axes>"
      ]
     },
     "metadata": {},
     "output_type": "display_data"
    },
    {
     "data": {
      "image/png": "[encoded data removed]",
      "text/plain": [
       "<Figure size 432x288 with 1 Axes>"
      ]
     },
     "metadata": {
      "needs_background": "light"
     },
     "output_type": "display_data"
    }
   ],
   "source": [
    "plt.figure()\n",
    "ax = energy_data.plot(x='Date',y='TotalDemand')\n",
    "plt.xlabel('Date')\n",
    "plt.ylabel('TotalDemand')\n",
    "plt.xticks(rotation=45)\n",
    "plt.show()"
   ]
  },
  {
   "cell_type": "markdown",
   "metadata": {},
   "source": [
    "## Air vs Sea and Station Pressure\n",
    "A graphical representation of air vs sea and station pressure. The comparison between air temperature and pressure over a number of years can be helpful in predicting certain weather patterns as pressure plays a role in the determining the temperature."
   ]
  },
  {
   "cell_type": "code",
   "execution_count": 26,
   "metadata": {},
   "outputs": [
    {
     "data": {
      "text/plain": [
       "<Figure size 432x288 with 0 Axes>"
      ]
     },
     "execution_count": 26,
     "metadata": {},
     "output_type": "execute_result"
    },
    {
     "data": {
      "text/plain": [
       "<matplotlib.axes._subplots.AxesSubplot at 0x23caa212288>"
      ]
     },
     "execution_count": 26,
     "metadata": {},
     "output_type": "execute_result"
    },
    {
     "data": {
      "text/plain": [
       "Text(0, 0.5, 'Hectopascals (Hpa)')"
      ]
     },
     "execution_count": 26,
     "metadata": {},
     "output_type": "execute_result"
    },
    {
     "data": {
      "text/plain": [
       "(0, 1500)"
      ]
     },
     "execution_count": 26,
     "metadata": {},
     "output_type": "execute_result"
    },
    {
     "data": {
      "text/plain": [
       "Text(0.5, 0, 'Date and Time')"
      ]
     },
     "execution_count": 26,
     "metadata": {},
     "output_type": "execute_result"
    },
    {
     "data": {
      "text/plain": [
       "(array([728659., 730120., 731581., 733042., 734503., 735964., 737425.,\n",
       "        738886.]),\n",
       " <a list of 8 Text xticklabel objects>)"
      ]
     },
     "execution_count": 26,
     "metadata": {},
     "output_type": "execute_result"
    },
    {
     "data": {
      "text/plain": [
       "<matplotlib.legend.Legend at 0x23ccfc5c308>"
      ]
     },
     "execution_count": 26,
     "metadata": {},
     "output_type": "execute_result"
    },
    {
     "data": {
      "text/plain": [
       "<matplotlib.axes._subplots.AxesSubplot at 0x23caa222948>"
      ]
     },
     "execution_count": 26,
     "metadata": {},
     "output_type": "execute_result"
    },
    {
     "data": {
      "text/plain": [
       "Text(0, 0.5, 'Degrees Celsius')"
      ]
     },
     "execution_count": 26,
     "metadata": {},
     "output_type": "execute_result"
    },
    {
     "data": {
      "text/plain": [
       "(0, 60)"
      ]
     },
     "execution_count": 26,
     "metadata": {},
     "output_type": "execute_result"
    },
    {
     "data": {
      "text/plain": [
       "<matplotlib.legend.Legend at 0x23cfbe0cb08>"
      ]
     },
     "execution_count": 26,
     "metadata": {},
     "output_type": "execute_result"
    },
    {
     "data": {
      "text/plain": [
       "Text(0.5, 1.0, 'StationPressure (red), SeaPressure (blue) and AirTemperature (green) temperatures')"
      ]
     },
     "execution_count": 26,
     "metadata": {},
     "output_type": "execute_result"
    },
    {
     "data": {
      "text/plain": [
       "<Figure size 432x288 with 0 Axes>"
      ]
     },
     "metadata": {},
     "output_type": "display_data"
    },
    {
     "name": "stderr",
     "output_type": "stream",
     "text": [
      "C:\\Users\\Javis\\anaconda3\\lib\\site-packages\\IPython\\core\\pylabtools.py:132: UserWarning: Creating legend with loc=\"best\" can be slow with large amounts of data.\n",
      "  fig.canvas.print_figure(bytes_io, **kw)\n"
     ]
    },
    {
     "data": {
      "image/png": "[encoded data removed]",
      "text/plain": [
       "<Figure size 432x288 with 2 Axes>"
      ]
     },
     "metadata": {
      "needs_background": "light"
     },
     "output_type": "display_data"
    }
   ],
   "source": [
    "plt.figure()\n",
    "ax = temperature_data.plot(x='Date',y='StationPressure',color='red')\n",
    "temperature_data.plot(x='Date',y='SeaPressure',ax=ax,color='blue')\n",
    "plt.ylabel('Hectopascals (Hpa)')\n",
    "plt.ylim(0,1500)\n",
    "plt.xlabel('Date and Time')\n",
    "plt.xticks(rotation=45)\n",
    "plt.legend('')\n",
    "\n",
    "ax2 = ax.twinx()\n",
    "temperature_data.plot(x='Date',y='AirTemperature',ax=ax2,color='green',legend='None')\n",
    "plt.ylabel('Degrees Celsius')\n",
    "plt.ylim(0,60)\n",
    "plt.legend('')\n",
    "plt.title('StationPressure (red), SeaPressure (blue) and AirTemperature (green) temperatures')\n",
    "plt.show()"
   ]
  },
  {
   "cell_type": "code",
   "execution_count": null,
   "metadata": {},
   "outputs": [],
   "source": []
  }
 ],
 "metadata": {
  "kernelspec": {
   "display_name": "Python 3",
   "language": "python",
   "name": "python3"
  },
  "language_info": {
   "codemirror_mode": {
    "name": "ipython",
    "version": 3
   },
   "file_extension": ".py",
   "mimetype": "text/x-python",
   "name": "python",
   "nbconvert_exporter": "python",
   "pygments_lexer": "ipython3",
   "version": "3.7.6"
  }
 },
 "nbformat": 4,
 "nbformat_minor": 2
}
